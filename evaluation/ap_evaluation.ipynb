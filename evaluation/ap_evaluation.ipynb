{
 "cells": [
  {
   "cell_type": "code",
   "execution_count": 3,
   "id": "c4302c98",
   "metadata": {},
   "outputs": [
    {
     "name": "stdout",
     "output_type": "stream",
     "text": [
      "Collecting git+https://github.com/sanjibg01/CS410-project-team-trailblazers.git\n",
      "  Cloning https://github.com/sanjibg01/CS410-project-team-trailblazers.git to /private/var/folders/20/qt9p4w8j6hbg0blk47rwt0680000gp/T/pip-req-build-xcfc7c0p\n",
      "  Running command git clone --filter=blob:none -q https://github.com/sanjibg01/CS410-project-team-trailblazers.git /private/var/folders/20/qt9p4w8j6hbg0blk47rwt0680000gp/T/pip-req-build-xcfc7c0p\n",
      "  Resolved https://github.com/sanjibg01/CS410-project-team-trailblazers.git to commit 5471837a592072fdc6c4dea3d19972715b2fc7e7\n",
      "  Preparing metadata (setup.py) ... \u001b[?25ldone\n",
      "\u001b[?25hRequirement already satisfied: click in /opt/anaconda3/lib/python3.8/site-packages (from search==0.0.1) (8.0.0)\n",
      "Requirement already satisfied: pandas in /opt/anaconda3/lib/python3.8/site-packages (from search==0.0.1) (1.3.2)\n",
      "Requirement already satisfied: tabulate in /opt/anaconda3/lib/python3.8/site-packages (from search==0.0.1) (0.8.9)\n",
      "Requirement already satisfied: scikit-learn in /opt/anaconda3/lib/python3.8/site-packages (from search==0.0.1) (0.24.1)\n",
      "Requirement already satisfied: python-dateutil>=2.7.3 in /opt/anaconda3/lib/python3.8/site-packages (from pandas->search==0.0.1) (2.8.2)\n",
      "Requirement already satisfied: pytz>=2017.3 in /opt/anaconda3/lib/python3.8/site-packages (from pandas->search==0.0.1) (2021.1)\n",
      "Requirement already satisfied: numpy>=1.17.3 in /opt/anaconda3/lib/python3.8/site-packages (from pandas->search==0.0.1) (1.21.2)\n",
      "Requirement already satisfied: joblib>=0.11 in /opt/anaconda3/lib/python3.8/site-packages (from scikit-learn->search==0.0.1) (1.0.1)\n",
      "Requirement already satisfied: scipy>=0.19.1 in /opt/anaconda3/lib/python3.8/site-packages (from scikit-learn->search==0.0.1) (1.6.2)\n",
      "Requirement already satisfied: threadpoolctl>=2.0.0 in /opt/anaconda3/lib/python3.8/site-packages (from scikit-learn->search==0.0.1) (2.1.0)\n",
      "Requirement already satisfied: six>=1.5 in /opt/anaconda3/lib/python3.8/site-packages (from python-dateutil>=2.7.3->pandas->search==0.0.1) (1.16.0)\n"
     ]
    }
   ],
   "source": [
    "# importing `search` should work after pip installing from repo\n",
    "!python -m pip install git+https://github.com/sanjibg01/CS410-project-team-trailblazers.git"
   ]
  },
  {
   "cell_type": "code",
   "execution_count": 19,
   "id": "1851b196",
   "metadata": {},
   "outputs": [],
   "source": [
    "from typing import List\n",
    "import pandas as pd\n",
    "import numpy as np\n",
    "import sklearn as sk\n",
    "import random\n",
    "from search import SearchEngine, TfidfCosineSearch\n",
    "\n",
    "def make_scored_docs(query, documents, titles):\n",
    "    scored_docs = TfidfCosineSearch(query, documents).make_document_scores_df()\n",
    "    scored_docs[\"title\"] = scored_docs[\"document_id\"].map(dict(enumerate(titles)))\n",
    "    scored_docs[\"document_preview\"] = scored_docs[\"document\"].str.slice(0, 50)\n",
    "    scored_docs = scored_docs[[\"document_id\", \"title\", \"score\", \"document\", \"document_preview\"]]\n",
    "    return scored_docs\n"
   ]
  },
  {
   "cell_type": "code",
   "execution_count": 5,
   "id": "140d3431",
   "metadata": {},
   "outputs": [],
   "source": [
    "se = SearchEngine(course_transcript_filename='transcripts_text-retrieval_txt.json')\n",
    "\n",
    "# list of document strings; we will map the index/order to a document title/label later\n",
    "arxiv_documents: List[str] = list(se.arxiv_data.values())\n",
    "lecture_documents: List[str] = list(se.lecture_data.values())\n",
    "\n",
    "arxiv_titles = se.arxiv_data.keys()\n",
    "lecture_titles = se.lecture_data.keys()\n",
    "\n",
    "query = \"natural language processing\"\n",
    "\n",
    "arxiv_df = make_scored_docs(query=query, \n",
    "                            documents=arxiv_documents, \n",
    "                            titles=arxiv_titles)\n",
    "\n",
    "lecture_df = make_scored_docs(query=query, \n",
    "                              documents=lecture_documents, \n",
    "                              titles=lecture_titles)\n"
   ]
  },
  {
   "cell_type": "code",
   "execution_count": 48,
   "id": "e52ca007",
   "metadata": {},
   "outputs": [
    {
     "data": {
      "text/plain": [
       "10000"
      ]
     },
     "execution_count": 48,
     "metadata": {},
     "output_type": "execute_result"
    }
   ],
   "source": [
    "len(arxiv_df)"
   ]
  },
  {
   "cell_type": "code",
   "execution_count": 49,
   "id": "c29b11eb",
   "metadata": {},
   "outputs": [
    {
     "data": {
      "text/plain": [
       "45"
      ]
     },
     "execution_count": 49,
     "metadata": {},
     "output_type": "execute_result"
    }
   ],
   "source": [
    "len(lecture_df)"
   ]
  },
  {
   "cell_type": "code",
   "execution_count": 10,
   "id": "5414df84",
   "metadata": {},
   "outputs": [
    {
     "data": {
      "text/html": [
       "<div>\n",
       "<style scoped>\n",
       "    .dataframe tbody tr th:only-of-type {\n",
       "        vertical-align: middle;\n",
       "    }\n",
       "\n",
       "    .dataframe tbody tr th {\n",
       "        vertical-align: top;\n",
       "    }\n",
       "\n",
       "    .dataframe thead th {\n",
       "        text-align: right;\n",
       "    }\n",
       "</style>\n",
       "<table border=\"1\" class=\"dataframe\">\n",
       "  <thead>\n",
       "    <tr style=\"text-align: right;\">\n",
       "      <th></th>\n",
       "      <th>document_id</th>\n",
       "      <th>title</th>\n",
       "      <th>score</th>\n",
       "      <th>document</th>\n",
       "      <th>document_preview</th>\n",
       "    </tr>\n",
       "  </thead>\n",
       "  <tbody>\n",
       "    <tr>\n",
       "      <th>0</th>\n",
       "      <td>3369</td>\n",
       "      <td>0704.3370 - Natural boundary of Dirichlet series</td>\n",
       "      <td>0.250595</td>\n",
       "      <td>We prove some conditions on the existence of natural boundaries of Di...</td>\n",
       "      <td>We prove some conditions on the existence of nat</td>\n",
       "    </tr>\n",
       "    <tr>\n",
       "      <th>1</th>\n",
       "      <td>5300</td>\n",
       "      <td>0705.1298 - Mykyta the Fox and networks of language</td>\n",
       "      <td>0.229746</td>\n",
       "      <td>The results of quantitative analysis of word distribution in two fabl...</td>\n",
       "      <td>The results of quantitative analysis of word dis</td>\n",
       "    </tr>\n",
       "    <tr>\n",
       "      <th>2</th>\n",
       "      <td>1318</td>\n",
       "      <td>0704.1319 - Using conceptual metaphor and functional grammar to explore...</td>\n",
       "      <td>0.225560</td>\n",
       "      <td>This paper introduces a theory about the role of language in learning...</td>\n",
       "      <td>This paper introduces a theory about the role of</td>\n",
       "    </tr>\n",
       "    <tr>\n",
       "      <th>3</th>\n",
       "      <td>3664</td>\n",
       "      <td>0704.3665 - On the Development of Text Input Method - Lessons Learned</td>\n",
       "      <td>0.221328</td>\n",
       "      <td>Intelligent Input Methods (IM) are essential for making text entries ...</td>\n",
       "      <td>Intelligent Input Methods (IM) are essential for</td>\n",
       "    </tr>\n",
       "    <tr>\n",
       "      <th>4</th>\n",
       "      <td>690</td>\n",
       "      <td>0704.0691 - Birth, survival and death of languages by Monte Carlo simul...</td>\n",
       "      <td>0.219905</td>\n",
       "      <td>Simulations of physicists for the competition between adult languages...</td>\n",
       "      <td>Simulations of physicists for the competition be</td>\n",
       "    </tr>\n",
       "  </tbody>\n",
       "</table>\n",
       "</div>"
      ],
      "text/plain": [
       "   document_id  \\\n",
       "0         3369   \n",
       "1         5300   \n",
       "2         1318   \n",
       "3         3664   \n",
       "4          690   \n",
       "\n",
       "                                                                        title  \\\n",
       "0                            0704.3370 - Natural boundary of Dirichlet series   \n",
       "1                         0705.1298 - Mykyta the Fox and networks of language   \n",
       "2  0704.1319 - Using conceptual metaphor and functional grammar to explore...   \n",
       "3       0704.3665 - On the Development of Text Input Method - Lessons Learned   \n",
       "4  0704.0691 - Birth, survival and death of languages by Monte Carlo simul...   \n",
       "\n",
       "      score  \\\n",
       "0  0.250595   \n",
       "1  0.229746   \n",
       "2  0.225560   \n",
       "3  0.221328   \n",
       "4  0.219905   \n",
       "\n",
       "                                                                     document  \\\n",
       "0    We prove some conditions on the existence of natural boundaries of Di...   \n",
       "1    The results of quantitative analysis of word distribution in two fabl...   \n",
       "2    This paper introduces a theory about the role of language in learning...   \n",
       "3    Intelligent Input Methods (IM) are essential for making text entries ...   \n",
       "4    Simulations of physicists for the competition between adult languages...   \n",
       "\n",
       "                                     document_preview  \n",
       "0    We prove some conditions on the existence of nat  \n",
       "1    The results of quantitative analysis of word dis  \n",
       "2    This paper introduces a theory about the role of  \n",
       "3    Intelligent Input Methods (IM) are essential for  \n",
       "4    Simulations of physicists for the competition be  "
      ]
     },
     "execution_count": 10,
     "metadata": {},
     "output_type": "execute_result"
    }
   ],
   "source": [
    "arxiv_df.head()"
   ]
  },
  {
   "cell_type": "code",
   "execution_count": 11,
   "id": "2c98e68f",
   "metadata": {},
   "outputs": [
    {
     "data": {
      "text/html": [
       "<div>\n",
       "<style scoped>\n",
       "    .dataframe tbody tr th:only-of-type {\n",
       "        vertical-align: middle;\n",
       "    }\n",
       "\n",
       "    .dataframe tbody tr th {\n",
       "        vertical-align: top;\n",
       "    }\n",
       "\n",
       "    .dataframe thead th {\n",
       "        text-align: right;\n",
       "    }\n",
       "</style>\n",
       "<table border=\"1\" class=\"dataframe\">\n",
       "  <thead>\n",
       "    <tr style=\"text-align: right;\">\n",
       "      <th></th>\n",
       "      <th>document_id</th>\n",
       "      <th>title</th>\n",
       "      <th>score</th>\n",
       "      <th>document</th>\n",
       "      <th>document_preview</th>\n",
       "    </tr>\n",
       "  </thead>\n",
       "  <tbody>\n",
       "    <tr>\n",
       "      <th>0</th>\n",
       "      <td>2</td>\n",
       "      <td>01_lesson-1-1-natural-language-content-analysis.en.txt</td>\n",
       "      <td>0.190841</td>\n",
       "      <td>[SOUND] &gt;&gt; This lecture is about Natural Language of Content Analysis. ...</td>\n",
       "      <td>[SOUND] &gt;&gt; This lecture is about Natural Language</td>\n",
       "    </tr>\n",
       "    <tr>\n",
       "      <th>1</th>\n",
       "      <td>21</td>\n",
       "      <td>02_lesson-4-2-statistical-language-model.en.txt</td>\n",
       "      <td>0.110065</td>\n",
       "      <td>[SOUND] This lecture is about the statistical language model. In this l...</td>\n",
       "      <td>[SOUND] This lecture is about the statistical lang</td>\n",
       "    </tr>\n",
       "    <tr>\n",
       "      <th>2</th>\n",
       "      <td>44</td>\n",
       "      <td>10_lesson-6-10-course-summary.en.txt</td>\n",
       "      <td>0.076566</td>\n",
       "      <td>[NOISE] This lecture is a summary of this course. This map shows the ma...</td>\n",
       "      <td>[NOISE] This lecture is a summary of this course.</td>\n",
       "    </tr>\n",
       "    <tr>\n",
       "      <th>3</th>\n",
       "      <td>29</td>\n",
       "      <td>03_lesson-5-3-feedback-in-text-retrieval-feedback-in-lm.en.txt</td>\n",
       "      <td>0.058505</td>\n",
       "      <td>[SOUND] This lecture is about the feedback in the language modeling app...</td>\n",
       "      <td>[SOUND] This lecture is about the feedback in the</td>\n",
       "    </tr>\n",
       "    <tr>\n",
       "      <th>4</th>\n",
       "      <td>25</td>\n",
       "      <td>06_lesson-4-6-smoothing-methods-part-1.en.txt</td>\n",
       "      <td>0.052179</td>\n",
       "      <td>[SOUND] This lecture is about the specific smoothing methods for langua...</td>\n",
       "      <td>[SOUND] This lecture is about the specific smoothi</td>\n",
       "    </tr>\n",
       "  </tbody>\n",
       "</table>\n",
       "</div>"
      ],
      "text/plain": [
       "   document_id  \\\n",
       "0            2   \n",
       "1           21   \n",
       "2           44   \n",
       "3           29   \n",
       "4           25   \n",
       "\n",
       "                                                            title     score  \\\n",
       "0          01_lesson-1-1-natural-language-content-analysis.en.txt  0.190841   \n",
       "1                 02_lesson-4-2-statistical-language-model.en.txt  0.110065   \n",
       "2                            10_lesson-6-10-course-summary.en.txt  0.076566   \n",
       "3  03_lesson-5-3-feedback-in-text-retrieval-feedback-in-lm.en.txt  0.058505   \n",
       "4                   06_lesson-4-6-smoothing-methods-part-1.en.txt  0.052179   \n",
       "\n",
       "                                                                     document  \\\n",
       "0  [SOUND] >> This lecture is about Natural Language of Content Analysis. ...   \n",
       "1  [SOUND] This lecture is about the statistical language model. In this l...   \n",
       "2  [NOISE] This lecture is a summary of this course. This map shows the ma...   \n",
       "3  [SOUND] This lecture is about the feedback in the language modeling app...   \n",
       "4  [SOUND] This lecture is about the specific smoothing methods for langua...   \n",
       "\n",
       "                                     document_preview  \n",
       "0  [SOUND] >> This lecture is about Natural Language   \n",
       "1  [SOUND] This lecture is about the statistical lang  \n",
       "2  [NOISE] This lecture is a summary of this course.   \n",
       "3  [SOUND] This lecture is about the feedback in the   \n",
       "4  [SOUND] This lecture is about the specific smoothi  "
      ]
     },
     "execution_count": 11,
     "metadata": {},
     "output_type": "execute_result"
    }
   ],
   "source": [
    "lecture_df.head()"
   ]
  },
  {
   "cell_type": "code",
   "execution_count": 40,
   "id": "b723ec2c",
   "metadata": {},
   "outputs": [],
   "source": [
    "lecture_true = np.zeros(45)"
   ]
  },
  {
   "cell_type": "code",
   "execution_count": 41,
   "id": "971bcf13",
   "metadata": {},
   "outputs": [
    {
     "data": {
      "text/plain": [
       "array([0., 0., 0., 1., 0., 0., 0., 1., 1., 0., 0., 0., 0., 0., 0., 1., 1.,\n",
       "       0., 1., 0., 0., 0., 1., 1., 1., 1., 1., 0., 0., 0., 0., 1., 0., 1.,\n",
       "       0., 0., 0., 1., 0., 0., 1., 0., 0., 1., 1.])"
      ]
     },
     "execution_count": 41,
     "metadata": {},
     "output_type": "execute_result"
    }
   ],
   "source": [
    "for i in range(45):\n",
    "    lecture_true[i] = random.randint(0,1)\n",
    "    \n",
    "lecture_true"
   ]
  },
  {
   "cell_type": "code",
   "execution_count": 42,
   "id": "b008811c",
   "metadata": {},
   "outputs": [
    {
     "data": {
      "text/plain": [
       "array([0.19084067, 0.11006524, 0.07656601, 0.05850451, 0.05217883,\n",
       "       0.04306484, 0.03729168, 0.03385167, 0.0280637 , 0.02692713,\n",
       "       0.02211725, 0.01959091, 0.01650349, 0.01594887, 0.01576235,\n",
       "       0.01490098, 0.01405293, 0.01223143, 0.01172356, 0.01130837,\n",
       "       0.01108304, 0.0096335 , 0.00827876, 0.00699555, 0.00471622,\n",
       "       0.00436789, 0.0038967 , 0.00302411, 0.        , 0.        ,\n",
       "       0.        , 0.        , 0.        , 0.        , 0.        ,\n",
       "       0.        , 0.        , 0.        , 0.        , 0.        ,\n",
       "       0.        , 0.        , 0.        , 0.        , 0.        ])"
      ]
     },
     "execution_count": 42,
     "metadata": {},
     "output_type": "execute_result"
    }
   ],
   "source": [
    "lecture_scores = np.array(lecture_df[\"score\"].to_list())\n",
    "lecture_scores"
   ]
  },
  {
   "cell_type": "code",
   "execution_count": 43,
   "id": "2242d761",
   "metadata": {},
   "outputs": [
    {
     "data": {
      "text/plain": [
       "0.338212416010948"
      ]
     },
     "execution_count": 43,
     "metadata": {},
     "output_type": "execute_result"
    }
   ],
   "source": [
    "sk.metrics.average_precision_score(lecture_true, lecture_scores)"
   ]
  }
 ],
 "metadata": {
  "kernelspec": {
   "display_name": "Python 3",
   "language": "python",
   "name": "python3"
  },
  "language_info": {
   "codemirror_mode": {
    "name": "ipython",
    "version": 3
   },
   "file_extension": ".py",
   "mimetype": "text/x-python",
   "name": "python",
   "nbconvert_exporter": "python",
   "pygments_lexer": "ipython3",
   "version": "3.8.5"
  }
 },
 "nbformat": 4,
 "nbformat_minor": 5
}
